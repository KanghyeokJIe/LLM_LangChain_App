{
 "cells": [
  {
   "cell_type": "markdown",
   "id": "5f2110d2",
   "metadata": {},
   "source": [
    "## 문제 2-3: 학생 정보 구조화 시스템"
   ]
  },
  {
   "cell_type": "code",
   "execution_count": 5,
   "id": "c5bc11c4",
   "metadata": {},
   "outputs": [
    {
     "name": "stdout",
     "output_type": "stream",
     "text": [
      "gs\n"
     ]
    }
   ],
   "source": [
    "import os\n",
    "import json\n",
    "from dotenv import load_dotenv\n",
    "# .env 파일을 불러와서 환경 변수로 설정\n",
    "load_dotenv()\n",
    "\n",
    "from langchain_openai import ChatOpenAI\n",
    "from langchain_core.prompts import ChatPromptTemplate\n",
    "from langchain.output_parsers import PydanticOutputParser\n",
    "\n",
    "from pydantic import BaseModel, Field\n",
    "from typing import List\n",
    "\n",
    "OPENAI_API_KEY = os.getenv(\"OPENAI_API_KEY\")\n",
    "print(OPENAI_API_KEY[:2])"
   ]
  },
  {
   "cell_type": "code",
   "execution_count": null,
   "id": "08ab2b4d",
   "metadata": {},
   "outputs": [
    {
     "name": "stdout",
     "output_type": "stream",
     "text": [
      "{\n",
      "    \"name\": \"김민수\",\n",
      "    \"age\": 22,\n",
      "    \"major\": \"컴퓨터공학\",\n",
      "    \"hobbies\": [\n",
      "        \"게임하기\",\n",
      "        \"영화보기\",\n",
      "        \"코딩\"\n",
      "    ],\n",
      "    \"goal\": \"훌륭한 개발자가 되는 것\"\n",
      "}\n",
      "------------------------------\n"
     ]
    }
   ],
   "source": [
    "# 1. 출력 구조를 정의하는 Pydantic 모델\n",
    "class StudentInfo(BaseModel):\n",
    "    name: str = Field(description=\"학생의 이름\")\n",
    "    age: int = Field(description=\"학생의 나이\")\n",
    "    major: str = Field(description=\"학생의 전공\")\n",
    "    hobbies: List[str] = Field(description=\"학생의 취미 리스트\")\n",
    "    goal: str = Field(description=\"학생의 목표\")\n",
    "\n",
    "# 2. Pydantic 출력 파서 초기화\n",
    "parser = PydanticOutputParser(pydantic_object=StudentInfo)\n",
    "\n",
    "# 3. 프롬프트 템플릿 설정\n",
    "template = \"\"\"\n",
    "당신은 학생의 자기소개 텍스트에서 주요 정보를 추출하는 전문가입니다.\n",
    "다음 자기소개 텍스트를 분석하여, 요청된 형식에 맞춰 정보를 구조화해주세요.\n",
    "\n",
    "자기소개 텍스트: \"{bio_text}\"\n",
    "\n",
    "{format_instructions}\n",
    "\n",
    "중요 규칙:\n",
    "1. 'hobbies' 필드는 취미가 여러 개일 경우 리스트 형태로 추출합니다.\n",
    "2. 각 필드에 해당하는 정보가 텍스트에 명확히 없으면 최대한 유추하거나 비워둘 수 있습니다.\n",
    "\"\"\"\n",
    "\n",
    "prompt = ChatPromptTemplate.from_template(template)\n",
    "\n",
    "# 4. 파서의 지시사항을 프롬프트에 주입\n",
    "prompt = prompt.partial(\n",
    "    format_instructions=parser.get_format_instructions()\n",
    ")\n",
    "\n",
    "# 5. ChatOpenAI 모델 초기화 (Groq API 사용)\n",
    "model = ChatOpenAI(\n",
    "    #api_key=OPENAI_API_KEY,\n",
    "    base_url=\"https://api.groq.com/openai/v1\",  # Groq API 엔드포인트\n",
    "    model=\"meta-llama/llama-4-scout-17b-16e-instruct\",\n",
    "    temperature=0  # 일관성을 위해 0으로 설정\n",
    ")\n",
    "\n",
    "# 6. 체인 구성\n",
    "chain = prompt | model | parser\n",
    "\n",
    "# 7. 예시 입력 텍스트\n",
    "bio_text = \"안녕하세요! 저는 김민수이고 22살입니다. 컴퓨터공학을 전공하고 있어요. 취미로는 게임하기, 영화보기, 코딩을 좋아합니다. 앞으로 훌륭한 개발자가 되는 것이 목표입니다.\"\n",
    "\n",
    "try:\n",
    "    # 8. 체인 실행\n",
    "    output = chain.invoke({\"bio_text\": bio_text})\n",
    "\n",
    "    # 9. 결과 출력 - Pydantic 객체를 딕셔너리로 변환 후 JSON 형태로 출력\n",
    "    print(json.dumps(output.model_dump(), indent=4, ensure_ascii=False))\n",
    "\n",
    "except Exception as e:\n",
    "    print(f\"정보 추출 중 오류 발생: {e}\")\n",
    "    print(\"Groq API 키가 올바르게 설정되었는지 확인해 주세요.\")"
   ]
  }
 ],
 "metadata": {
  "kernelspec": {
   "display_name": "langchain-basic-kGdHTiMZ-py3.12",
   "language": "python",
   "name": "python3"
  },
  "language_info": {
   "codemirror_mode": {
    "name": "ipython",
    "version": 3
   },
   "file_extension": ".py",
   "mimetype": "text/x-python",
   "name": "python",
   "nbconvert_exporter": "python",
   "pygments_lexer": "ipython3",
   "version": "3.12.7"
  }
 },
 "nbformat": 4,
 "nbformat_minor": 5
}
