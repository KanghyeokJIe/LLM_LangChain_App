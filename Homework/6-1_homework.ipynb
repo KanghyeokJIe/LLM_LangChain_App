{
 "cells": [
  {
   "cell_type": "code",
   "execution_count": 19,
   "id": "b1de8b12",
   "metadata": {},
   "outputs": [
    {
     "name": "stdout",
     "output_type": "stream",
     "text": [
      "✅ API 키 로드 완료.\n",
      "✅ 한글 폰트 'Malgun Gothic' 설정 완료.\n"
     ]
    }
   ],
   "source": [
    "import os\n",
    "import re\n",
    "import operator\n",
    "from typing import Dict, Any, List, TypedDict, Annotated, Sequence\n",
    "\n",
    "# .env 파일 로드를 위한 라이브러리\n",
    "from dotenv import load_dotenv\n",
    "\n",
    "# LangChain 및 LangGraph 관련\n",
    "from langchain_core.messages import BaseMessage, HumanMessage\n",
    "from langchain_core.documents import Document\n",
    "from langchain_core.tools import tool\n",
    "from langchain_openai import ChatOpenAI, OpenAIEmbeddings\n",
    "from langchain_community.vectorstores import FAISS\n",
    "from langgraph.graph import StateGraph, END\n",
    "from langgraph.prebuilt import ToolNode\n",
    "\n",
    "# 데이터 시각화 관련\n",
    "import matplotlib.pyplot as plt\n",
    "import matplotlib.font_manager as fm\n",
    "\n",
    "# --- 환경 설정 ---\n",
    "# .env 파일에서 API 키 로드\n",
    "load_dotenv()\n",
    "if \"OPENAI_API_KEY\" not in os.environ:\n",
    "    print(\"경고: .env 파일에 OPENAI_API_KEY를 설정해주세요.\")\n",
    "else:\n",
    "    print(\"✅ API 키 로드 완료.\")\n",
    "\n",
    "# 한글 폰트 설정 (그래프용)\n",
    "try:\n",
    "    font_path = 'c:/Windows/Fonts/malgun.ttf'\n",
    "    font_name = fm.FontProperties(fname=font_path).get_name()\n",
    "    plt.rc('font', family=font_name)\n",
    "    print(f\"✅ 한글 폰트 '{font_name}' 설정 완료.\")\n",
    "except FileNotFoundError:\n",
    "    print(\"⚠️ 경고: '맑은 고딕' 폰트를 찾을 수 없어 그래프의 한글이 깨질 수 있습니다.\")\n",
    "plt.rcParams['axes.unicode_minus'] = False"
   ]
  },
  {
   "cell_type": "code",
   "execution_count": 21,
   "id": "f5aac08b",
   "metadata": {},
   "outputs": [
    {
     "name": "stdout",
     "output_type": "stream",
     "text": [
      "✅ 데이터 로더 및 2가지 도구(정보 검색, 그래프 표시) 정의 완료.\n"
     ]
    }
   ],
   "source": [
    "import re\n",
    "import os\n",
    "from typing import Dict, Any, List\n",
    "\n",
    "# 데이터 시각화 관련\n",
    "import matplotlib.pyplot as plt\n",
    "import matplotlib.font_manager as fm\n",
    "\n",
    "# LangChain 및 LangGraph 관련\n",
    "from langchain_core.documents import Document\n",
    "from langchain_core.tools import tool\n",
    "from langchain_openai import OpenAIEmbeddings\n",
    "from langchain_community.vectorstores import FAISS\n",
    "\n",
    "# --- 함수 및 도구 정의 ---\n",
    "\n",
    "def load_menu_from_file(file_path: str) -> list[dict]:\n",
    "    \"\"\"사용자님의 txt 파일 형식에 맞춰 메뉴 데이터를 읽어와 딕셔너리 리스트로 반환합니다.\"\"\"\n",
    "    if not os.path.exists(file_path):\n",
    "        print(f\"❌ 오류: 데이터 파일 '{file_path}'을(를) 찾을 수 없습니다.\")\n",
    "        return []\n",
    "    with open(file_path, 'r', encoding='utf-8') as f:\n",
    "        content = f.read()\n",
    "    menu_items_raw = re.split(r'\\n\\s*\\n', content.strip())\n",
    "    menu_data_list = []\n",
    "    for item_raw in menu_items_raw:\n",
    "        lines = item_raw.strip().split('\\n')\n",
    "        name_match = re.match(r'\\d+\\.\\s*(.*)', lines.pop(0))\n",
    "        if not name_match: continue\n",
    "        menu_item: dict[str, any] = {'menu_name': name_match.group(1).strip()}\n",
    "        for line in lines:\n",
    "            if line.strip().startswith('•'):\n",
    "                parts = line.strip().lstrip('• ').split(':', 1)\n",
    "                if len(parts) == 2:\n",
    "                    key, value = parts[0].strip(), parts[1].strip()\n",
    "                    if key == '가격': menu_item['price'] = value\n",
    "                    elif key == '설명': menu_item['description'] = value\n",
    "        menu_data_list.append(menu_item)\n",
    "    return menu_data_list\n",
    "\n",
    "@tool\n",
    "def search_cafe_menu(query: str) -> str:\n",
    "    \"\"\"카페 메뉴의 가격, 설명 등 텍스트 정보에 대한 질문에 답변할 때 사용합니다.\"\"\"\n",
    "    if not menu_data: return \"메뉴 데이터가 로드되지 않았습니다.\"\n",
    "    documents = [Document(page_content=f\"메뉴:{item.get('menu_name', '')}, 가격:{item.get('price', '')}, 설명:{item.get('description', '')}\") for item in menu_data]\n",
    "    db = FAISS.from_documents(documents, OpenAIEmbeddings(model=\"text-embedding-3-small\"))\n",
    "    docs = db.similarity_search(query, k=2)\n",
    "    return \"\\n\\n\".join([doc.page_content for doc in docs]) if docs else \"관련 정보를 찾지 못했습니다.\"\n",
    "\n",
    "@tool\n",
    "def create_price_comparison_graph(menu_names: list[str]) -> str:\n",
    "    \"\"\"여러 메뉴의 가격을 막대 그래프로 비교하여 실행 결과에 바로 표시합니다.\"\"\"\n",
    "    if not menu_data: return \"메뉴 데이터가 로드되지 않았습니다.\"\n",
    "    prices, valid_names = [], []\n",
    "    for name in menu_names:\n",
    "        for item in menu_data:\n",
    "            if name.lower() in item.get('menu_name', '').lower():\n",
    "                prices.append(int(re.sub(r'[^\\d]', '', item.get('price', '0'))))\n",
    "                valid_names.append(item.get('menu_name', ''))\n",
    "                break\n",
    "    if not prices: return \"그래프를 생성할 메뉴 정보를 찾지 못했습니다.\"\n",
    "\n",
    "    plt.figure(figsize=(10, 6))\n",
    "    bars = plt.bar(valid_names, prices, color='skyblue')\n",
    "    plt.ylabel('가격 (원)')\n",
    "    plt.title('메뉴별 가격 비교')\n",
    "    for bar in bars:\n",
    "        yval = bar.get_height()\n",
    "        plt.text(bar.get_x() + bar.get_width()/2.0, yval, f'{yval:,}원', va='bottom', ha='center')\n",
    "    \n",
    "    plt.show() # 그래프를 셀 결과에 바로 표시\n",
    "    return \"메뉴 가격 비교 그래프를 표시했습니다.\"\n",
    "\n",
    "print(\"✅ 데이터 로더 및 2가지 도구(정보 검색, 그래프 표시) 정의 완료.\")"
   ]
  },
  {
   "cell_type": "code",
   "execution_count": 22,
   "id": "7de46837",
   "metadata": {},
   "outputs": [
    {
     "name": "stdout",
     "output_type": "stream",
     "text": [
      "✅ 총 10개의 메뉴 데이터를 파일에서 로드했습니다.\n",
      "✅ 에이전트 구성 요소 준비 완료.\n"
     ]
    }
   ],
   "source": [
    "# 데이터 파일 경로 설정 및 로드\n",
    "data_file_path = '../data/cafe_menu_data.txt'\n",
    "menu_data = load_menu_from_file(data_file_path)\n",
    "\n",
    "if menu_data:\n",
    "    print(f\"✅ 총 {len(menu_data)}개의 메뉴 데이터를 파일에서 로드했습니다.\")\n",
    "    # 에이전트가 사용할 도구 목록\n",
    "    tools = [search_cafe_menu, create_price_comparison_graph]\n",
    "    \n",
    "    # 모델에 도구 바인딩\n",
    "    model = ChatOpenAI(temperature=0).bind_tools(tools)\n",
    "    \n",
    "    # 상태 정의\n",
    "    class AgentState(TypedDict):\n",
    "        messages: Annotated[Sequence[BaseMessage], operator.add]\n",
    "\n",
    "    # 노드 정의\n",
    "    agent = lambda state: {\"messages\": [model.invoke(state[\"messages\"])]}\n",
    "    tool_node = ToolNode(tools)\n",
    "    should_continue = lambda state: \"action\" if state[\"messages\"][-1].tool_calls else \"end\"\n",
    "    \n",
    "    print(\"✅ 에이전트 구성 요소 준비 완료.\")\n",
    "else:\n",
    "    print(\"❌ 메뉴 데이터 로드에 실패하여 에이전트를 구성할 수 없습니다.\")"
   ]
  },
  {
   "cell_type": "code",
   "execution_count": 23,
   "id": "6824fd14",
   "metadata": {},
   "outputs": [
    {
     "name": "stdout",
     "output_type": "stream",
     "text": [
      "✅ ReAct 에이전트 및 워크플로우 구성 완료.\n"
     ]
    }
   ],
   "source": [
    "if menu_data:\n",
    "    # 워크플로우 생성\n",
    "    workflow = StateGraph(AgentState)\n",
    "    workflow.add_node(\"agent\", agent)\n",
    "    workflow.add_node(\"action\", tool_node)\n",
    "    \n",
    "    # 엣지 및 진입점 설정\n",
    "    workflow.set_entry_point(\"agent\")\n",
    "    workflow.add_conditional_edges(\"agent\", should_continue, {\"action\": \"action\", \"end\": END})\n",
    "    workflow.add_edge(\"action\", \"agent\")\n",
    "    \n",
    "    # 컴파일\n",
    "    app = workflow.compile()\n",
    "    print(\"✅ ReAct 에이전트 및 워크플로우 구성 완료.\")\n",
    "else:\n",
    "    print(\"❌ 워크플로우를 구성할 수 없습니다.\")"
   ]
  },
  {
   "cell_type": "code",
   "execution_count": 24,
   "id": "2421c7ec",
   "metadata": {},
   "outputs": [
    {
     "name": "stdout",
     "output_type": "stream",
     "text": [
      "\n",
      "==================================================\n",
      "질문: 티라미수 얼마야?\n",
      "응답: 티라미수의 가격은 ₩7,500 입니다. 이탈리아 전통 디저트로 마스카포네 치즈와 에스프레소에 적신 레이디핑거를 층층이 쌓아 만들었습니다. 부드럽고 달콤한 맛이 특징이며, 코코아 파우더로 마무리하여 깊은 풍미를 자랍니다.\n",
      "==================================================\n",
      "\n",
      "==================================================\n",
      "질문: 아메리카노랑 카페라떼, 티라미수 가격을 그래프로 비교해줘\n"
     ]
    },
    {
     "data": {
      "image/png": "[encoded data removed]",
      "text/plain": [
       "<Figure size 1000x600 with 1 Axes>"
      ]
     },
     "metadata": {},
     "output_type": "display_data"
    },
    {
     "name": "stdout",
     "output_type": "stream",
     "text": [
      "응답: 여기 아메리카노, 카페라떼, 티라미수의 가격 비교 그래프가 있습니다. 아메리카노가 4,500원, 카페라떼가 5,500원, 티라미수가 6,000원으로 나타납니다.\n",
      "==================================================\n"
     ]
    }
   ],
   "source": [
    "def run_agent(question: str):\n",
    "    \"\"\"질문을 입력받아 에이전트를 실행하고 결과를 출력하는 함수\"\"\"\n",
    "    if not menu_data:\n",
    "        print(\"❌ 에이전트를 실행할 수 없습니다. 메뉴 데이터를 먼저 로드해주세요.\")\n",
    "        return\n",
    "\n",
    "    print(\"\\n\" + \"=\"*50)\n",
    "    print(f\"질문: {question}\")\n",
    "    inputs = {\"messages\": [HumanMessage(content=question)]}\n",
    "    response = app.invoke(inputs)\n",
    "    final_answer = response['messages'][-1].content\n",
    "    print(f\"응답: {final_answer}\")\n",
    "    if \".png\" in final_answer:\n",
    "        print(\"==> 현재 폴더에 이미지 파일이 생성되었는지 확인해보세요!\")\n",
    "    print(\"=\"*50)\n",
    "\n",
    "# 테스트 1: 텍스트 정보 검색\n",
    "run_agent(\"티라미수 얼마야?\")\n",
    "\n",
    "# 테스트 2: 데이터 시각화 그래프 생성\n",
    "run_agent(\"아메리카노랑 카페라떼, 티라미수 가격을 그래프로 비교해줘\")"
   ]
  }
 ],
 "metadata": {
  "kernelspec": {
   "display_name": "langchain-basic-kGdHTiMZ-py3.12",
   "language": "python",
   "name": "python3"
  },
  "language_info": {
   "codemirror_mode": {
    "name": "ipython",
    "version": 3
   },
   "file_extension": ".py",
   "mimetype": "text/x-python",
   "name": "python",
   "nbconvert_exporter": "python",
   "pygments_lexer": "ipython3",
   "version": "3.12.7"
  }
 },
 "nbformat": 4,
 "nbformat_minor": 5
}
