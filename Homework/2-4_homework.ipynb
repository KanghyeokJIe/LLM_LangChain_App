{
 "cells": [
  {
   "cell_type": "markdown",
   "id": "beb5de7f",
   "metadata": {},
   "source": [
    "## 문제 2-4 : 여행 계획 분석기"
   ]
  },
  {
   "cell_type": "code",
   "execution_count": 2,
   "id": "41d88082",
   "metadata": {},
   "outputs": [
    {
     "name": "stdout",
     "output_type": "stream",
     "text": [
      "gs\n"
     ]
    }
   ],
   "source": [
    "from dotenv import load_dotenv\n",
    "import os\n",
    "# .env 파일을 불러와서 환경 변수로 설정\n",
    "load_dotenv()\n",
    "\n",
    "from langchain_openai import ChatOpenAI\n",
    "from langchain_core.prompts import ChatPromptTemplate\n",
    "from langchain.output_parsers import StructuredOutputParser, ResponseSchema\n",
    "\n",
    "from pprint import pprint \n",
    "\n",
    "OPENAI_API_KEY = os.getenv(\"OPENAI_API_KEY\")\n",
    "print(OPENAI_API_KEY[:2])"
   ]
  },
  {
   "cell_type": "code",
   "execution_count": 6,
   "id": "fd63a8b1",
   "metadata": {},
   "outputs": [
    {
     "name": "stdout",
     "output_type": "stream",
     "text": [
      "{'activities': ['해운대 바다구경', '자갈치시장에서 회 먹기', '감천문화마을 구경'],\n",
      " 'budget': '30만원',\n",
      " 'destination': '부산',\n",
      " 'duration': '2박3일',\n",
      " 'rating': '4'}\n",
      "------------------------------\n"
     ]
    }
   ],
   "source": [
    "# 1. 출력 구조 정의 (여행지, 기간, 예산, 추천도, 주요 활동)\n",
    "response_schemas = [\n",
    "    ResponseSchema(name=\"destination\", description=\"여행지 (예: 부산)\"),\n",
    "    ResponseSchema(name=\"duration\", description=\"여행 기간 (예: 2박 3일, 5일)\"),\n",
    "    ResponseSchema(name=\"budget\", description=\"총 여행 예산 (예: 30만원, 100달러)\"),\n",
    "    ResponseSchema(name=\"rating\", description=\"여행 추천도 (1점에서 5점 사이의 정수)\"),\n",
    "    ResponseSchema(name=\"activities\", description=\"여행 중 수행한 주요 활동 리스트 (최대 5가지)\")\n",
    "]\n",
    "\n",
    "# 2. 파서 초기화\n",
    "parser = StructuredOutputParser.from_response_schemas(response_schemas)\n",
    "format_instructions = parser.get_format_instructions()\n",
    "\n",
    "# 3. 프롬프트 템플릿\n",
    "template = \"\"\"\n",
    "당신은 여행 계획 및 후기 분석 전문가입니다.\n",
    "다음 여행 텍스트에서 주요 정보를 추출하고, 요청된 형식에 맞춰 구조화해주세요.\n",
    "\n",
    "여행 텍스트: \"{travel_text}\"\n",
    "\n",
    "{format_instructions}\n",
    "\n",
    "중요 규칙:\n",
    "1. 'rating'은 1점부터 5점 사이의 정수 값으로만 출력하세요.\n",
    "2. 'activities'는 리스트 형태로 출력하며, 텍스트에서 언급된 주요 활동만 포함하세요.\n",
    "3. 텍스트에 없는 정보는 비워두거나 '알 수 없음' 등으로 표시할 수 있습니다.\n",
    "\"\"\"\n",
    "\n",
    "prompt = ChatPromptTemplate.from_template(template)\n",
    "prompt = prompt.partial(format_instructions=format_instructions)\n",
    "\n",
    "# 4. 모델 초기화 (Groq API 사용)\n",
    "# Groq API 키는 환경 변수 GROQ_API_KEY로 설정해야 합니다.\n",
    "model = ChatOpenAI(\n",
    "    #api_key=OPENAI_API_KEY,\n",
    "    base_url=\"https://api.groq.com/openai/v1\",  # Groq API 엔드포인트\n",
    "    model=\"meta-llama/llama-4-scout-17b-16e-instruct\",\n",
    "    temperature=0  # 일관성을 위해 0으로 설정\n",
    ")\n",
    "\n",
    "# 5. 테스트 리뷰 데이터\n",
    "travel_text_example = \"지난 주에 부산으로 2박 3일 여행을 다녀왔어요. 총 30만원 정도 썼는데 해운대에서 바다구경하고, 자갈치시장에서 회 먹고, 감천문화마을도 구경했어요. 정말 만족스러운 여행이었습니다. 5점 만점에 4점 정도 줄 수 있을 것 같아요.\"\n",
    "\n",
    "# 6. 체인 구성 및 실행\n",
    "chain = prompt | model | parser\n",
    "\n",
    "try:\n",
    "    output = chain.invoke({\"travel_text\": travel_text_example})\n",
    "\n",
    "    # 7. 결과 출력 (Pretty Print)\n",
    "    pprint(output)\n",
    "\n",
    "except Exception as e:\n",
    "    print(f\"정보 추출 중 오류 발생: {e}\")\n",
    "    print(\"Groq API 키가 올바르게 설정되었는지 확인해 주세요.\")\n",
    "\n",
    "print(\"-\" * 30)"
   ]
  }
 ],
 "metadata": {
  "kernelspec": {
   "display_name": "langchain-basic-kGdHTiMZ-py3.12",
   "language": "python",
   "name": "python3"
  },
  "language_info": {
   "codemirror_mode": {
    "name": "ipython",
    "version": 3
   },
   "file_extension": ".py",
   "mimetype": "text/x-python",
   "name": "python",
   "nbconvert_exporter": "python",
   "pygments_lexer": "ipython3",
   "version": "3.12.7"
  }
 },
 "nbformat": 4,
 "nbformat_minor": 5
}
