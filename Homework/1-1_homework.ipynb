{
 "cells": [
  {
   "cell_type": "markdown",
   "id": "8238c39c",
   "metadata": {},
   "source": [
    "## **문제 1-1 : 기본 체인 만들기 - AI 요리사**\n",
    "### **문제 설명**\n",
    "*사용자가 재료를 입력하면 그 재료로 만들 수 있는 요리를 추천해주는 간단한 AI 요리사를 만들어보세요.*\n",
    "\n",
    "### **요구사항**\n",
    "1. **romptTemplate**을 사용하여 프롬프트 작성\n",
    "2. 사용자가 입력한 재료를 받아서 요리 추천\n",
    "3. **ChatOpenAI** 모델 사용\n",
    "4. **StrOutputParser**로 결과를 문자열로 출력\n",
    "5. LCEL(**|**) 문법을 사용하여 체인 연결\n",
    "\n",
    "### **구현 조건**\n",
    "- 입력: 재료명 (예: \"토마토, 양파, 치즈\")\n",
    "- 출력: 추천 요리와 간단한 레시피\n",
    "\n",
    "### **예상 실행 결과**\n",
    "\n",
    "입력: \"계란, 밥, 김치\"\n",
    "출력: \n",
    "계란과 밥, 김치로 만들 수 있는 요리를 추천드립니다!\n",
    "\n",
    "추천 요리: 김치볶음밥\n",
    "재료: 계란, 밥, 김치\n",
    "조리법:\n",
    "1. 팬에 기름을 두르고 김치를 볶아주세요\n",
    "2. 밥을 넣고 함께 볶아주세요\n",
    "3. 계란을 풀어서 넣고 잘 섞어주세요\n",
    "...\n"
   ]
  },
  {
   "cell_type": "code",
   "execution_count": 2,
   "id": "2a1e2ee4",
   "metadata": {},
   "outputs": [],
   "source": [
    "#문제 1-1\n",
    "import os\n",
    "from dotenv import load_dotenv\n",
    "from langchain_openai import ChatOpenAI\n",
    "from langchain_core.prompts import PromptTemplate\n",
    "\n",
    "load_dotenv()\n",
    "OPENAI_API_KEY = os.getenv(\"OPENAI_API_KEY\")"
   ]
  },
  {
   "cell_type": "code",
   "execution_count": 9,
   "id": "b706b5cb",
   "metadata": {},
   "outputs": [
    {
     "data": {
      "text/plain": [
       "PromptTemplate(input_variables=['input'], input_types={}, partial_variables={}, template='\\n    당신은 사용자가 재료를 입력하면\\n    해당 재료로 만들 수 있는 료리를 추천해주는 요리 전문가입니다. \\n    <Question>: {input}으로 할 수 있는 요리 이름과 조리법을 알려 주세요.\\n    실행 결과 표기할때\\n    입력: \"{input}\"\\n    출력: {input} 로 만들 수 있는 요리를 추천드립니다!\\n    추천 요리:\\n    재료: {input}\\n    조리법:\\n    1.\\n    2.\\n    3.\\n    ...\\n    이런 식으로 표기해주세요\\n    ')"
      ]
     },
     "execution_count": 9,
     "metadata": {},
     "output_type": "execute_result"
    }
   ],
   "source": [
    "prompt = PromptTemplate.from_template(\n",
    "    \"\"\"\n",
    "    당신은 사용자가 재료를 입력하면\n",
    "    해당 재료로 만들 수 있는 료리를 추천해주는 요리 전문가입니다. \n",
    "    <Question>: {input}으로 할 수 있는 요리 이름과 조리법을 알려 주세요.\n",
    "    실행 결과 표기할때\n",
    "    입력: \"{input}\"\n",
    "    출력: {input} 로 만들 수 있는 요리를 추천드립니다!\n",
    "    추천 요리:\n",
    "    재료: {input}\n",
    "    조리법:\n",
    "    1.\n",
    "    2.\n",
    "    3.\n",
    "    ...\n",
    "    이런 식으로 표기해주세요\n",
    "    \"\"\")                                     \n",
    "prompt"
   ]
  },
  {
   "cell_type": "code",
   "execution_count": 8,
   "id": "c0673be9",
   "metadata": {},
   "outputs": [
    {
     "name": "stdout",
     "output_type": "stream",
     "text": [
      "<class 'langchain_core.messages.ai.AIMessage'>\n",
      "입력: 계란, 밥, 김치\n",
      "출력: 계란, 밥, 김치 로 만들 수 있는 요리를 추천드립니다!\n",
      "\n",
      "추천 요리: 김치볶음밥\n",
      "\n",
      "재료: 계란, 밥, 김치\n",
      "조리법:\n",
      "1. 김치를 잘게 썰어 준비합니다.\n",
      "2. 밥을 준비합니다.\n",
      "3. 계란을 풀어 준비합니다.\n",
      "4. 팬에 기름을 두르고 썰어 놓은 김치를 볶습니다.\n",
      "5. 김치가 볶아지면 풀어 놓은 계란을 넣고 스크램블 에그처럼 만들어 줍니다.\n",
      "6. 이제 준비한 밥을 넣고 잘 볶습니다.\n",
      "7. 간을 맞추기 위해 소금과 후추를 추가합니다.\n",
      "8. 마지막으로 잘게 썬 파를 뿌려줍니다.\n",
      "\n",
      "추천 요리: 계란 김치 덮밥\n",
      "\n",
      "재료: 계란, 밥, 김치\n",
      "조리법:\n",
      "1. 밥을 밥솥에서 밥을 짓거나 즉석밥을 사용해 준비합니다.\n",
      "2. 김치를 잘게 썰어 준비합니다.\n",
      "3. 계란을 한 판씩 프라이팬에 만들어 줍니다.\n",
      "4. 프라이팬에 기름을 두르고 썰어 놓은 김치를 살짝 볶습니다.\n",
      "5. 이제 계란 프라이 위에 볶은 김치를 얹습니다.\n",
      "6. 밥 위에 만들어 놓은 계란과 김치를 얹습니다.\n",
      "\n",
      "추천 요리: 김치 계란말이\n",
      "\n",
      "재료: 계란, 밥, 김치\n",
      "조리법:\n",
      "1. 김치를 잘게 썰어 준비합니다.\n",
      "2. 계란을 풀어 준비합니다.\n",
      "3. 팬에 기름을 두르고 썰어 놓은 김치를 볶습니다.\n",
      "4. 이제 풀어 놓은 계란을 넣고 계란말이처럼 만들어 줍니다.\n",
      "5. 밥과 함께 먹으면 더욱 맛있습니다.\n",
      "\n",
      " 등 다양한 요리들이 있습니다.\n"
     ]
    }
   ],
   "source": [
    "llm = ChatOpenAI(\n",
    "    # api_key=OPENAI_API_KEY,\n",
    "    base_url=\"https://api.groq.com/openai/v1\",  # Groq API 엔드포인트\n",
    "    model=\"meta-llama/llama-4-scout-17b-16e-instruct\",\n",
    "    temperature=0.7\n",
    ")\n",
    "\n",
    "# chain 연결 (LCEL)\n",
    "chain = prompt | llm\n",
    "\n",
    "# chain 호출\n",
    "result = chain.invoke({\"input\": \"계란, 밥, 김치\"})\n",
    "print(type(result))\n",
    "print(result.content)"
   ]
  }
 ],
 "metadata": {
  "kernelspec": {
   "display_name": "langchain-basic-kGdHTiMZ-py3.12",
   "language": "python",
   "name": "python3"
  },
  "language_info": {
   "codemirror_mode": {
    "name": "ipython",
    "version": 3
   },
   "file_extension": ".py",
   "mimetype": "text/x-python",
   "name": "python",
   "nbconvert_exporter": "python",
   "pygments_lexer": "ipython3",
   "version": "3.12.7"
  }
 },
 "nbformat": 4,
 "nbformat_minor": 5
}
