{
 "cells": [
  {
   "cell_type": "code",
   "execution_count": null,
   "id": "faced618",
   "metadata": {},
   "outputs": [
    {
     "name": "stdout",
     "output_type": "stream",
     "text": [
      "Hello LangChain\n"
     ]
    }
   ],
   "source": [
    "print('Hello LangChain chatGPT')"
   ]
  },
  {
   "cell_type": "code",
   "execution_count": 3,
   "id": "7997c29c",
   "metadata": {},
   "outputs": [],
   "source": [
    "import os\n",
    "from dotenv import load_dotenv\n",
    "from langchain_core.prompts import ChatPromptTemplate\n",
    "from langchain_openai import ChatOpenAI \n",
    "\n",
    "\n",
    "load_dotenv()\n",
    "OPENAI_API_KEY = os.getenv(\"OPENAI_API_KEY\")\n",
    "# print(OPENAI_API_KEY)"
   ]
  },
  {
   "cell_type": "code",
   "execution_count": 6,
   "id": "b797ba24",
   "metadata": {},
   "outputs": [
    {
     "name": "stdout",
     "output_type": "stream",
     "text": [
      "input_variables=['input'] input_types={} partial_variables={} messages=[SystemMessagePromptTemplate(prompt=PromptTemplate(input_variables=[], input_types={}, partial_variables={}, template='당신은 개발자입니다.'), additional_kwargs={}), HumanMessagePromptTemplate(prompt=PromptTemplate(input_variables=['input'], input_types={}, partial_variables={}, template='{input}'), additional_kwargs={})]\n"
     ]
    }
   ],
   "source": [
    "# prompt\n",
    "prompt = ChatPromptTemplate.from_messages(\n",
    "    [ (\"system\", \"당신은 개발자입니다.\") , \n",
    "     (\"user\", \"{input}\") ]\n",
    ")\n",
    "print(prompt)\n",
    "\n",
    "prompt_text = prompt.format(input=\"LangServe는 무엇인가요? 자세하게 설명해주세요\")"
   ]
  },
  {
   "cell_type": "code",
   "execution_count": 11,
   "id": "82932525",
   "metadata": {},
   "outputs": [
    {
     "name": "stdout",
     "output_type": "stream",
     "text": [
      "client=<openai.resources.chat.completions.completions.Completions object at 0x0000017CF26C5BB0> async_client=<openai.resources.chat.completions.completions.AsyncCompletions object at 0x0000017CF269F1A0> root_client=<openai.OpenAI object at 0x0000017CF26C7440> root_async_client=<openai.AsyncOpenAI object at 0x0000017CF269FF50> model_name='gpt-4o-mini' temperature=0.7 model_kwargs={} openai_api_key=SecretStr('**********')\n"
     ]
    }
   ],
   "source": [
    "# chatGPT API를 사용하는 ChatOpenAI 인스턴스 생성\n",
    "llm = ChatOpenAI(\n",
    "    # model=\"gpt-3.5-turbo-0125\",\n",
    "    model=\"gpt-4o-mini\",\n",
    "    temperature=0.7\n",
    ")\n",
    "print(llm)"
   ]
  },
  {
   "cell_type": "code",
   "execution_count": 12,
   "id": "49d386b2",
   "metadata": {},
   "outputs": [
    {
     "name": "stdout",
     "output_type": "stream",
     "text": [
      "<class 'langchain_core.messages.ai.AIMessage'>\n",
      "응답: LangServe는 다양한 언어 모델을 활용하여 개발자와 사용자 간의 상호작용을 지원하는 플랫폼이나 도구를 의미할 수 있습니다. 일반적으로 이러한 시스템은 자연어 처리(NLP) 기술을 기반으로 하여 사용자가 입력한 텍스트를 이해하고, 이에 대한 적절한 응답을 생성하는 데 사용됩니다.\n",
      "\n",
      "LangServe의 주요 기능은 다음과 같습니다:\n",
      "\n",
      "1. **언어 모델 통합**: LangServe는 여러 가지 언어 모델을 통합하여 사용자가 필요로 하는 다양한 작업을 수행할 수 있도록 합니다. 예를 들어, 질문 답변, 텍스트 생성, 요약, 번역 등을 지원할 수 있습니다.\n",
      "\n",
      "2. **API 제공**: 개발자들이 쉽게 사용할 수 있도록 API를 제공하여, 애플리케이션이나 웹 서비스에 쉽게 통합할 수 있습니다. 이를 통해 다양한 플랫폼에서 자연어 처리 기능을 활용할 수 있습니다.\n",
      "\n",
      "3. **사용자 맞춤형 설정**: 사용자는 특정 도메인이나 주제에 맞게 모델을 조정할 수 있으며, 이를 통해 더 정확하고 유용한 결과를 얻을 수 있습니다.\n",
      "\n",
      "4. **모니터링 및 분석**: LangServe는 사용자의 상호작용 데이터를 수집하고 분석하여, 모델의 성능을 개선하고 사용자 경험을 향상시키는 데 도움을 줍니다.\n",
      "\n",
      "5. **다양한 언어 지원**: 여러 언어를 지원하여 글로벌 사용자들이 접근할 수 있도록 합니다. 이를 통해 다양한 문화와 언어를 가진 사용자들에게 서비스를 제공합니다.\n",
      "\n",
      "LangServe의 구체적인 구현이나 기능은 제공하는 회사나 플랫폼에 따라 다를 수 있으며, 특정한 사용 사례나 환경에 맞춰 다양한 형태로 발전할 수 있습니다.\n"
     ]
    }
   ],
   "source": [
    "try:\n",
    "    response = llm.invoke(prompt_text)\n",
    "    print(type(response))\n",
    "    # print(type(response.content))\n",
    "    print(\"응답:\", response.content)\n",
    "except Exception as e:\n",
    "    print(f\"오류 발생: {e}\")"
   ]
  }
 ],
 "metadata": {
  "kernelspec": {
   "display_name": "langchain-basic-kGdHTiMZ-py3.12",
   "language": "python",
   "name": "python3"
  },
  "language_info": {
   "codemirror_mode": {
    "name": "ipython",
    "version": 3
   },
   "file_extension": ".py",
   "mimetype": "text/x-python",
   "name": "python",
   "nbconvert_exporter": "python",
   "pygments_lexer": "ipython3",
   "version": "3.12.7"
  }
 },
 "nbformat": 4,
 "nbformat_minor": 5
}
