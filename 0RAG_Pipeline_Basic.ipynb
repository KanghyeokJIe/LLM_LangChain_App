{
 "cells": [
  {
   "cell_type": "code",
   "execution_count": 1,
   "id": "c446c4ff",
   "metadata": {},
   "outputs": [
    {
     "name": "stdout",
     "output_type": "stream",
     "text": [
      "sk\n"
     ]
    }
   ],
   "source": [
    "import os\n",
    "from dotenv import load_dotenv\n",
    "\n",
    "load_dotenv()\n",
    "OPENAI_API_KEY = os.getenv(\"OPENAI_API_KEY\")\n",
    "print(OPENAI_API_KEY[:2])"
   ]
  },
  {
   "cell_type": "markdown",
   "id": "a15648ff",
   "metadata": {},
   "source": [
    "### 1단계"
   ]
  },
  {
   "cell_type": "code",
   "execution_count": null,
   "id": "42b7a14b",
   "metadata": {},
   "outputs": [],
   "source": [
    "# %pip install langchain_community faiss-cpu\n",
    "from langchain_openai import ChatOpenAI,OpenAIEmbeddings\n",
    "from langchain.vectorstores import FAISS\n",
    "from langchain.text_splitter import RecursiveCharacterTextSplitter\n",
    "from langchain.document_loaders import TextLoader\n",
    "from pprint import pprint"
   ]
  },
  {
   "cell_type": "code",
   "execution_count": null,
   "id": "65431da2",
   "metadata": {},
   "outputs": [],
   "source": [
    "# 1. Load Data\n",
    "loader = TextLoader(\"data/taxinfo.txt\", encoding=\"utf-8\")\n",
    "documents = loader.load()\n",
    "print(type(documents[0]),documents[0].page_content[:20])"
   ]
  },
  {
   "cell_type": "code",
   "execution_count": null,
   "id": "30633510",
   "metadata": {},
   "outputs": [],
   "source": [
    "# 2️. Text Split\n",
    "splitter = RecursiveCharacterTextSplitter(chunk_size=500, chunk_overlap=50)\n",
    "split_docs = splitter.split_documents(documents)\n",
    "print(len(split_docs),split_docs[11])"
   ]
  },
  {
   "cell_type": "code",
   "execution_count": null,
   "id": "11f164d3",
   "metadata": {},
   "outputs": [],
   "source": [
    "# 3️. Indexing (벡터 저장)\n",
    "vectorstore = FAISS.from_documents(split_docs, OpenAIEmbeddings())\n",
    "# 로컬 파일로 저장\n",
    "vectorstore.save_local(\"faiss_index\")\n",
    "print(vectorstore)"
   ]
  },
  {
   "cell_type": "code",
   "execution_count": null,
   "id": "51494acb",
   "metadata": {},
   "outputs": [],
   "source": [
    "# 4️. Retrieval (유사 문서 검색)\n",
    "retriever = vectorstore.as_retriever(search_kwargs={\"k\": 4})\n",
    "# **질문(쿼리)**에 대해 유사한 문서를 검색하는 역할\n",
    "retrieved_docs = retriever.invoke(\"소득세법에서 비과세소득에 해당하는 소득은 무엇인가요?\")\n",
    "print(type(retrieved_docs))\n",
    "pprint(retrieved_docs)"
   ]
  },
  {
   "cell_type": "code",
   "execution_count": null,
   "id": "757249e8",
   "metadata": {},
   "outputs": [],
   "source": [
    "# 5️. Generation (LLM 응답 생성)\n",
    "llm = ChatOpenAI(model=\"gpt-4o\")\n",
    "context = \"\\n\\n\".join([doc.page_content for doc in retrieved_docs])\n",
    "print(context)"
   ]
  },
  {
   "cell_type": "code",
   "execution_count": null,
   "id": "92c4bf1f",
   "metadata": {},
   "outputs": [],
   "source": [
    "response_context = llm.invoke(f\"소득세법에서 비과세소득에 해당하는 소득은 무엇인가요? 관련 정보: {context}\")\n",
    "print('context 적용한 결과')\n",
    "pprint(response_context.content)"
   ]
  },
  {
   "cell_type": "code",
   "execution_count": null,
   "id": "cff85a60",
   "metadata": {},
   "outputs": [],
   "source": [
    "response = llm.invoke(f\"소득세법에서 비과세소득에 해당하는 소득은 무엇인가요?\")\n",
    "print('context 적용하지 않은 결과')\n",
    "pprint(response.content)"
   ]
  },
  {
   "cell_type": "markdown",
   "id": "33873292",
   "metadata": {},
   "source": [
    "### 2단계"
   ]
  },
  {
   "cell_type": "code",
   "execution_count": null,
   "id": "a1856bea",
   "metadata": {},
   "outputs": [],
   "source": [
    "from langchain_openai import ChatOpenAI, OpenAIEmbeddings\n",
    "from langchain.vectorstores import FAISS\n",
    "from langchain.text_splitter import RecursiveCharacterTextSplitter\n",
    "from langchain.document_loaders import TextLoader\n",
    "from pprint import pprint\n",
    "\n",
    "# 1. 데이터 로드 (기존과 동일)\n",
    "loader = TextLoader(\"data/taxinfo.txt\", encoding=\"utf-8\")\n",
    "documents = loader.load()\n",
    "\n",
    "# 2. 텍스트 분할 개선\n",
    "splitter = RecursiveCharacterTextSplitter(\n",
    "    chunk_size=1000,  # 크기 증가\n",
    "    chunk_overlap=200,\n",
    "    separators=[\"\\n\\n\", \"\\n\", \" \", \"\"],  # 자연스러운 분할을 위한 구분자\n",
    "    length_function=len,\n",
    "    is_separator_regex=False,\n",
    ")\n",
    "split_docs = splitter.split_documents(documents)\n",
    "\n",
    "# 3. 인덱싱 (벡터 저장)\n",
    "vectorstore = FAISS.from_documents(split_docs, OpenAIEmbeddings())\n",
    "vectorstore.save_local(\"faiss_index\")\n",
    "\n",
    "# 4. 검색 개선\n",
    "retriever = vectorstore.as_retriever(\n",
    "    search_type=\"mmr\",  # 최대 다양성 검색\n",
    "    search_kwargs={\"k\": 5, \"fetch_k\": 10}  # 더 많은 결과 검색\n",
    ")\n",
    "\n",
    "# 5. 프롬프트 엔지니어링\n",
    "def generate_prompt(query, context):\n",
    "    return f\"\"\"다음은 소득세법 비과세소득 관련 조항입니다. 문맥을 고려하여 질문에 답변하세요.\n",
    "\n",
    "[관련 조항]\n",
    "{context}\n",
    "\n",
    "[질문]\n",
    "{query}\n",
    "\n",
    "[답변 요구사항]\n",
    "- 비과세소득 유형을 계층적으로 구분하여 설명\n",
    "- 각 항목별 구체적인 조건 명시\n",
    "- 법조문의 항, 호, 목 번호를 포함\n",
    "- 500자 이내로 간결하게 요약\"\"\"\n",
    "\n",
    "# 검색 및 응답 생성\n",
    "query = \"소득세법에서 비과세소득에 해당하는 소득은 무엇인가요?\"\n",
    "retrieved_docs = retriever.invoke(query)\n",
    "context = \"\\n\\n\".join([doc.page_content for doc in retrieved_docs])\n",
    "\n",
    "llm = ChatOpenAI(model=\"gpt-4o\", temperature=0.3)  # 창의성 낮춤\n",
    "response = llm.invoke(generate_prompt(query, context))\n",
    "\n",
    "print('개선된 결과:')\n",
    "pprint(response.content)"
   ]
  },
  {
   "cell_type": "markdown",
   "id": "f6d4bb65",
   "metadata": {},
   "source": [
    "### 3단계"
   ]
  },
  {
   "cell_type": "code",
   "execution_count": null,
   "id": "2bbc85af",
   "metadata": {},
   "outputs": [],
   "source": [
    "from langchain_openai import ChatOpenAI,OpenAIEmbeddings\n",
    "from langchain.vectorstores import FAISS\n",
    "from langchain.text_splitter import RecursiveCharacterTextSplitter\n",
    "from langchain.document_loaders import TextLoader\n",
    "from pprint import pprint\n",
    "\n",
    "# 1. Load Data\n",
    "loader = TextLoader(\"data/taxinfo.txt\", encoding=\"utf-8\")\n",
    "documents = loader.load()\n",
    "\n",
    "print(\"=== 원본 문서 길이 ===\")\n",
    "print(f\"전체 문서 길이: {len(documents[0].page_content)} 글자\")\n",
    "\n",
    "# 2. Text Split 개선\n",
    "splitter = RecursiveCharacterTextSplitter(\n",
    "    chunk_size=800,  # 500 → 800 (법령 조항이 길어서)\n",
    "    chunk_overlap=150,  # 50 → 150 (맥락 보존 강화)\n",
    "    separators=[\"\\n\\n\", \"\\n\", \". \", \" \", \"\"]  # 법령 구조에 맞는 분리자\n",
    ")\n",
    "split_docs = splitter.split_documents(documents)\n",
    "\n",
    "print(f\"분할된 문서 수: {len(split_docs)}개\")\n",
    "print(\"=== 분할 예시 ===\")\n",
    "for i, doc in enumerate(split_docs[:3]):\n",
    "    print(f\"Chunk {i+1} ({len(doc.page_content)}글자): {doc.page_content[:100]}...\")\n",
    "\n",
    "# 3. Indexing\n",
    "vectorstore = FAISS.from_documents(split_docs, OpenAIEmbeddings())\n",
    "vectorstore.save_local(\"./db/faiss_index\")\n",
    "\n",
    "# 4. Retrieval 개선\n",
    "retriever = vectorstore.as_retriever(\n",
    "    search_type=\"similarity\", \n",
    "    search_kwargs={\"k\": 6}  # 2 → 6으로 증가\n",
    ")\n",
    "\n",
    "query = \"소득세법에서 비과세소득에 해당하는 소득은 무엇인가요?\"\n",
    "retrieved_docs = retriever.invoke(query)\n",
    "\n",
    "print(f\"\\n=== 검색된 문서 ({len(retrieved_docs)}개) ===\")\n",
    "for i, doc in enumerate(retrieved_docs):\n",
    "    print(f\"문서 {i+1}: {doc.page_content[:200]}...\")\n",
    "    print(\"---\")\n",
    "\n",
    "# 5. Generation - 개선된 프롬프트\n",
    "llm = ChatOpenAI(model=\"gpt-4o\", temperature=0)\n",
    "context = \"\\n\\n\".join([f\"[문서 {i+1}]\\n{doc.page_content}\" for i, doc in enumerate(retrieved_docs)])\n",
    "\n",
    "# 개선된 프롬프트 - 더 구체적인 지시사항\n",
    "improved_prompt = f\"\"\"\n",
    "당신은 세무 전문가입니다. 아래 소득세법 제12조 조항을 바탕으로 질문에 답변해주세요.\n",
    "\n",
    "질문: {query}\n",
    "\n",
    "법령 조항:\n",
    "{context}\n",
    "\n",
    "다음 형식으로 답변해주세요:\n",
    "1. 비과세소득의 정의\n",
    "2. 주요 비과세소득 항목들을 다음과 같이 분류:\n",
    "   - 사업소득 관련\n",
    "   - 근로소득/퇴직소득 관련  \n",
    "   - 연금소득 관련\n",
    "   - 기타소득 관련\n",
    "3. 각 항목별 구체적인 조건이나 한도액 명시\n",
    "\n",
    "답변은 법조문을 인용하면서 구체적으로 작성해주세요.\n",
    "\"\"\"\n",
    "\n",
    "# 비교용 - 기존 방식\n",
    "simple_prompt = f\"소득세법에서 비과세소득에 해당하는 소득은 무엇인가요? 관련 정보: {context}\"\n",
    "\n",
    "print(\"\\n=== 개선된 프롬프트로 답변 ===\")\n",
    "response_improved = llm.invoke(improved_prompt)\n",
    "pprint(response_improved.content)\n",
    "\n",
    "print(\"\\n\" + \"=\"*50)\n",
    "print(\"=== 기존 프롬프트로 답변 ===\")\n",
    "response_simple = llm.invoke(simple_prompt)\n",
    "pprint(response_simple.content)\n",
    "\n",
    "# 추가 개선: 다른 검색 방식 시도\n",
    "print(\"\\n\" + \"=\"*50)\n",
    "print(\"=== 검색 방식 개선 테스트 ===\")"
   ]
  },
  {
   "cell_type": "code",
   "execution_count": null,
   "id": "2961e719",
   "metadata": {},
   "outputs": [
    {
     "name": "stdout",
     "output_type": "stream",
     "text": [
      "=== MMR 검색 결과 ===\n",
      "('소득세법 제12조에 따른 비과세소득 항목을 체계적으로 정리하면 다음과 같습니다.\\n'\n",
      " '\\n'\n",
      " '1. **공익신탁의 이익**\\n'\n",
      " '   - 「공익신탁법」에 따른 공익신탁의 이익\\n'\n",
      " '\\n'\n",
      " '2. **사업소득**\\n'\n",
      " '   - 논ㆍ밭을 작물 생산에 이용하게 함으로써 발생하는 소득\\n'\n",
      " '   - 1개의 주택을 소유하는 자의 주택임대소득 (단, 기준시가가 12억원을 초과하는 주택 및 국외에 소재하는 주택의 임대소득은 '\n",
      " '제외)\\n'\n",
      " '   - 대통령령으로 정하는 농어가부업소득\\n'\n",
      " '   - 대통령령으로 정하는 전통주의 제조에서 발생하는 소득\\n'\n",
      " '   - 조림기간 5년 이상인 임지의 임목의 벌채 또는 양도로 발생하는 소득으로서 연 600만원 이하의 금액\\n'\n",
      " '   - 대통령령으로 정하는 작물재배업에서 발생하는 소득\\n'\n",
      " '   - 대통령령으로 정하는 어로어업 또는 양식어업에서 발생하는 소득\\n'\n",
      " '\\n'\n",
      " '3. **근로소득과 퇴직소득**\\n'\n",
      " '   - 대통령령으로 정하는 복무 중인 병이 받는 급여\\n'\n",
      " '   - 법률에 따라 동원된 사람이 그 동원 직장에서 받는 급여\\n'\n",
      " '   - 「산업재해보상보험법」에 따라 수급권자가 받는 각종 보상금\\n'\n",
      " '   - 「근로기준법」 또는 「선원법」에 따라 근로자ㆍ선원 및 그 유족이 받는 각종 보상금\\n'\n",
      " '   - 대통령령으로 정하는 복리후생적 성질의 급여\\n'\n",
      " '\\n'\n",
      " '4. **연금소득**\\n'\n",
      " '   - 공적연금 관련법에 따라 받는 유족연금, 장애연금 등\\n'\n",
      " '   - 「산업재해보상보험법」에 따라 받는 각종 연금\\n'\n",
      " '   - 「국군포로의 송환 및 대우 등에 관한 법률」에 따른 국군포로가 받는 연금\\n'\n",
      " '\\n'\n",
      " '5. **기타소득**\\n'\n",
      " '   - 「국가유공자 등 예우 및 지원에 관한 법률」에 따라 받는 보훈급여금 등\\n'\n",
      " '   - 「국가보안법」에 따라 받는 상금과 보로금\\n'\n",
      " '   - 「상훈법」에 따른 훈장과 관련하여 받는 부상\\n'\n",
      " '   - 직무발명보상금으로서 대통령령으로 정하는 금액\\n'\n",
      " '   - 「문화유산의 보존 및 활용에 관한 법률」에 따라 국가지정문화유산으로 지정된 서화ㆍ골동품의 양도로 발생하는 소득\\n'\n",
      " '   - 서화ㆍ골동품을 박물관 또는 미술관에 양도함으로써 발생하는 소득\\n'\n",
      " '   - 종교관련종사자가 받는 대통령령으로 정하는 학자금, 식사 또는 식사대, 실비변상적 성질의 지급액\\n'\n",
      " '   - 종교관련종사자 또는 그 배우자의 출산이나 6세 이하 자녀의 보육과 관련하여 종교단체로부터 받는 금액으로서 월 20만원 이내의 '\n",
      " '금액\\n'\n",
      " '\\n'\n",
      " '이와 같은 항목들이 소득세법에 의해 비과세소득으로 규정되어 있습니다.')\n"
     ]
    }
   ],
   "source": [
    "# MMR(Maximum Marginal Relevance) 검색 - 다양성 확보\n",
    "retriever_mmr = vectorstore.as_retriever(\n",
    "    search_type=\"mmr\",\n",
    "    search_kwargs={\"k\": 6, \"fetch_k\": 20}\n",
    ")\n",
    "retrieved_docs_mmr = retriever_mmr.invoke(query)\n",
    "context_mmr = \"\\n\\n\".join([f\"[문서 {i+1}]\\n{doc.page_content}\" for i, doc in enumerate(retrieved_docs_mmr)])\n",
    "\n",
    "response_mmr = llm.invoke(f\"\"\"\n",
    "{query}\n",
    "\n",
    "법령 조항 (MMR 검색):\n",
    "{context_mmr}\n",
    "\n",
    "위 법령을 바탕으로 비과세소득 항목들을 체계적으로 정리해주세요.\n",
    "\"\"\")\n",
    "\n",
    "print(\"=== MMR 검색 결과 ===\")\n",
    "pprint(response_mmr.content)"
   ]
  }
 ],
 "metadata": {
  "kernelspec": {
   "display_name": "langchain-basic-kGdHTiMZ-py3.12",
   "language": "python",
   "name": "python3"
  },
  "language_info": {
   "codemirror_mode": {
    "name": "ipython",
    "version": 3
   },
   "file_extension": ".py",
   "mimetype": "text/x-python",
   "name": "python",
   "nbconvert_exporter": "python",
   "pygments_lexer": "ipython3",
   "version": "3.12.7"
  }
 },
 "nbformat": 4,
 "nbformat_minor": 5
}
